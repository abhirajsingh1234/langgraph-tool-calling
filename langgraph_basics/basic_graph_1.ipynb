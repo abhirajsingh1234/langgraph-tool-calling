{
 "cells": [
  {
   "cell_type": "code",
   "execution_count": null,
   "id": "9f95da24",
   "metadata": {},
   "outputs": [],
   "source": [
    "#required importations\n",
    "\n",
    "import langgraph\n",
    "from typing import TypedDict\n",
    "from langgraph.graph import StateGraph, START, END\n",
    "from IPython.display import Image, display"
   ]
  },
  {
   "cell_type": "code",
   "execution_count": null,
   "id": "f67666d9",
   "metadata": {},
   "outputs": [],
   "source": [
    "# creating state object\n",
    "\n",
    "class dataobject(TypedDict):\n",
    "    usd_amt : float\n",
    "    total_usd : float\n",
    "    total_inr : float"
   ]
  },
  {
   "cell_type": "code",
   "execution_count": null,
   "id": "f15d71c8",
   "metadata": {},
   "outputs": [],
   "source": [
    "#tools\n",
    "\n",
    "def total_usd_amount(state : dataobject) -> dataobject:\n",
    "\n",
    "    state['total_usd'] = state['usd_amt'] * 1.5\n",
    "\n",
    "\n",
    "    return state\n",
    "\n",
    "def usd_to_inr(state : dataobject) -> dataobject:\n",
    "\n",
    "    state['total_inr'] = state['total_usd'] * 90\n",
    "    \n",
    "    return state"
   ]
  },
  {
   "cell_type": "code",
   "execution_count": null,
   "id": "0148c7fe",
   "metadata": {},
   "outputs": [],
   "source": [
    "#adding tools to node with orchestration\n",
    "\n",
    "builder = StateGraph(dataobject)\n",
    "\n",
    "builder.add_node(\"calc_total_usd\",total_usd_amount)\n",
    "builder.add_node(\"usd_to_inr\", usd_to_inr)\n",
    "\n",
    "builder.add_edge(START, \"calc_total_usd\")\n",
    "builder.add_edge(\"calc_total_usd\", \"usd_to_inr\")\n",
    "builder.add_edge(\"usd_to_inr\", END)\n",
    "\n",
    "graph = builder.compile()"
   ]
  },
  {
   "cell_type": "code",
   "execution_count": null,
   "id": "1f3a6d82",
   "metadata": {},
   "outputs": [
    {
     "data": {
      "image/png": "[encoded data removed]",
      "text/plain": [
       "<IPython.core.display.Image object>"
      ]
     },
     "metadata": {},
     "output_type": "display_data"
    }
   ],
   "source": [
    "#display graph\n",
    "\n",
    "display(Image(graph.get_graph().draw_mermaid_png()))"
   ]
  },
  {
   "cell_type": "code",
   "execution_count": 8,
   "id": "d3c7198d",
   "metadata": {},
   "outputs": [
    {
     "data": {
      "text/plain": [
       "{'usd_amt': 1000, 'total_usd': 1500.0, 'total_inr': 135000.0}"
      ]
     },
     "execution_count": 8,
     "metadata": {},
     "output_type": "execute_result"
    }
   ],
   "source": [
    "graph.invoke({'usd_amt':1000})"
   ]
  },
  {
   "cell_type": "code",
   "execution_count": null,
   "id": "79b629d5",
   "metadata": {},
   "outputs": [],
   "source": []
  }
 ],
 "metadata": {
  "kernelspec": {
   "display_name": "Python 3",
   "language": "python",
   "name": "python3"
  },
  "language_info": {
   "codemirror_mode": {
    "name": "ipython",
    "version": 3
   },
   "file_extension": ".py",
   "mimetype": "text/x-python",
   "name": "python",
   "nbconvert_exporter": "python",
   "pygments_lexer": "ipython3",
   "version": "3.13.3"
  }
 },
 "nbformat": 4,
 "nbformat_minor": 5
}
