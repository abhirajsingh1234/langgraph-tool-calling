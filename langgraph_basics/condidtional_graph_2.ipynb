{
 "cells": [
  {
   "cell_type": "code",
   "execution_count": 24,
   "id": "65dc983d",
   "metadata": {},
   "outputs": [],
   "source": [
    "import langgraph\n",
    "from langgraph.graph import StateGraph, START,END\n",
    "from typing import TypedDict , Literal\n",
    "from IPython.display import Image, display"
   ]
  },
  {
   "cell_type": "code",
   "execution_count": 25,
   "id": "b84700ea",
   "metadata": {},
   "outputs": [],
   "source": [
    "class dataobject(TypedDict):\n",
    "    usd : float\n",
    "    total_usd : float\n",
    "    conversion_currency : Literal[\"inr\",'uro']\n",
    "    total : float"
   ]
  },
  {
   "cell_type": "code",
   "execution_count": 26,
   "id": "f414ce02",
   "metadata": {},
   "outputs": [],
   "source": [
    "#tools\n",
    "\n",
    "def total_usd_amount(state : dataobject) -> dataobject:\n",
    "\n",
    "    state['total_usd'] = state['usd'] * 1.5\n",
    "\n",
    "\n",
    "    return state\n",
    "\n",
    "def usd_to_inr(state : dataobject) -> dataobject:\n",
    "\n",
    "    state['total'] = state['total_usd'] * 90\n",
    "    \n",
    "    return state\n",
    "\n",
    "def usd_to_eur(state : dataobject) -> dataobject:\n",
    "\n",
    "    state['total'] = state['total_usd'] * 9\n",
    "    \n",
    "    return state\n",
    "\n",
    "def choose_conversion_type(state : dataobject) -> str:\n",
    "    return state['conversion_currency']"
   ]
  },
  {
   "cell_type": "code",
   "execution_count": 27,
   "id": "1db56e2a",
   "metadata": {},
   "outputs": [
    {
     "data": {
      "text/plain": [
       "<langgraph.graph.state.StateGraph at 0x247005e8050>"
      ]
     },
     "execution_count": 27,
     "metadata": {},
     "output_type": "execute_result"
    }
   ],
   "source": [
    "builder = StateGraph(dataobject)\n",
    "\n",
    "builder.add_node(\"calc_total_usd\", total_usd_amount)\n",
    "\n",
    "builder.add_node(\"convert_usd_to_inr\", usd_to_inr)\n",
    "\n",
    "builder.add_node(\"convert_usd_to_eur\", usd_to_eur)"
   ]
  },
  {
   "cell_type": "code",
   "execution_count": 28,
   "id": "d2a2ce4f",
   "metadata": {},
   "outputs": [],
   "source": [
    "builder.add_edge(START, 'calc_total_usd')\n",
    "\n",
    "builder.add_conditional_edges(\n",
    "    \n",
    "    \"calc_total_usd\",\n",
    "    choose_conversion_type,\n",
    "    {\n",
    "        'inr' : 'convert_usd_to_inr',\n",
    "        'uro': 'convert_usd_to_eur',\n",
    "    }\n",
    ")\n",
    "\n",
    "builder.add_edge(['convert_usd_to_inr','convert_usd_to_eur'],END)\n",
    "\n",
    "graph = builder.compile()"
   ]
  },
  {
   "cell_type": "code",
   "execution_count": 29,
   "id": "db2ef34f",
   "metadata": {},
   "outputs": [
    {
     "data": {
      "image/png": "[encoded data removed]",
      "text/plain": [
       "<IPython.core.display.Image object>"
      ]
     },
     "metadata": {},
     "output_type": "display_data"
    }
   ],
   "source": [
    "display(Image(graph.get_graph().draw_mermaid_png()))"
   ]
  },
  {
   "cell_type": "code",
   "execution_count": 31,
   "id": "28056de0",
   "metadata": {},
   "outputs": [
    {
     "data": {
      "text/plain": [
       "{'usd': 1000,\n",
       " 'total_usd': 1500.0,\n",
       " 'conversion_currency': 'inr',\n",
       " 'total': 135000.0}"
      ]
     },
     "execution_count": 31,
     "metadata": {},
     "output_type": "execute_result"
    }
   ],
   "source": [
    "graph.invoke({'usd':1000, 'conversion_currency':'inr'})"
   ]
  },
  {
   "cell_type": "code",
   "execution_count": null,
   "id": "386823ce",
   "metadata": {},
   "outputs": [],
   "source": []
  }
 ],
 "metadata": {
  "kernelspec": {
   "display_name": "Python 3",
   "language": "python",
   "name": "python3"
  },
  "language_info": {
   "codemirror_mode": {
    "name": "ipython",
    "version": 3
   },
   "file_extension": ".py",
   "mimetype": "text/x-python",
   "name": "python",
   "nbconvert_exporter": "python",
   "pygments_lexer": "ipython3",
   "version": "3.13.3"
  }
 },
 "nbformat": 4,
 "nbformat_minor": 5
}
