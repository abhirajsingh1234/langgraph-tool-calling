{
 "cells": [
  {
   "cell_type": "code",
   "execution_count": 14,
   "id": "cfbfacd5",
   "metadata": {},
   "outputs": [],
   "source": [
    "from langgraph.graph import StateGraph,START,END\n",
    "\n",
    "from dotenv import load_dotenv\n",
    "\n",
    "from typing import TypedDict,List,Annotated,Literal\n",
    "\n",
    "from langchain_openai import ChatOpenAI\n",
    "\n",
    "from langchain_google_genai import ChatGoogleGenerativeAI\n",
    "\n",
    "from langchain.prompts import PromptTemplate\n",
    "\n",
    "from langgraph.graph.message import add_messages\n",
    "\n",
    "from langchain.schema import AIMessage,HumanMessage\n",
    "\n",
    "from langchain_core.tools import tool\n",
    "\n",
    "from langgraph.prebuilt import ToolNode, tools_condition\n",
    "\n",
    "from langchain.prompts import ChatPromptTemplate\n",
    "\n",
    "from langchain_core.output_parsers import JsonOutputParser\n",
    "\n",
    "from data_fetcher import run_select_query\n",
    "\n",
    "import os"
   ]
  },
  {
   "cell_type": "code",
   "execution_count": 15,
   "id": "0ccdd561",
   "metadata": {},
   "outputs": [],
   "source": [
    "TABLE_SCHEMA = \"\"\"\n",
    "You have access to the following database schema:\n",
    "\n",
    "Table: banking_details\n",
    "- webtop (string)\n",
    "- account_number (string)\n",
    "- account_type (string)\n",
    "- balance (float)\n",
    "\"\"\"\n",
    "\n",
    "\n",
    "system_message = (\n",
    "    \"You are an AI that only returns SQL SELECT queries based on user requests.\\n\"\n",
    "    \"Only return the query in the following JSON format:\\n\"\n",
    "    '{{\"query\": \"<SQL query>\"}}\\n\\n'\n",
    "    \"Use only the given schema. Do not guess column or table names.\\n\"\n",
    "    f\"{TABLE_SCHEMA}\"\n",
    ")\n",
    "\n",
    "prompt = ChatPromptTemplate.from_messages([\n",
    "    (\"system\", system_message),\n",
    "    (\"human\", \"{input}\")\n",
    "])"
   ]
  },
  {
   "cell_type": "code",
   "execution_count": 16,
   "id": "b8558950",
   "metadata": {},
   "outputs": [],
   "source": [
    "load_dotenv()\n",
    "\n",
    "openai_key = os.getenv('OPENAI_API_KEY')\n",
    "\n",
    "llm = ChatOpenAI(model=\"gpt-4o-mini\", temperature=0.3, api_key=openai_key)\n",
    "\n",
    "parser = JsonOutputParser()\n",
    "\n",
    "chain = prompt | llm | parser\n",
    "\n",
    "class dataobject(TypedDict):\n",
    "    \n",
    "    messages : Annotated[List,add_messages]"
   ]
  },
  {
   "cell_type": "code",
   "execution_count": 19,
   "id": "4904a890",
   "metadata": {},
   "outputs": [
    {
     "name": "stdout",
     "output_type": "stream",
     "text": [
      "SELECT * FROM banking_details WHERE webtop = '356'\n"
     ]
    }
   ],
   "source": [
    "result = chain.invoke({'input':'give me details about webtop 356'})\n",
    "\n",
    "query = result['query']\n",
    "\n",
    "print(query)"
   ]
  },
  {
   "cell_type": "code",
   "execution_count": null,
   "id": "526978bc",
   "metadata": {},
   "outputs": [],
   "source": [
    "run_select_query(query)"
   ]
  }
 ],
 "metadata": {
  "kernelspec": {
   "display_name": "Python 3",
   "language": "python",
   "name": "python3"
  },
  "language_info": {
   "codemirror_mode": {
    "name": "ipython",
    "version": 3
   },
   "file_extension": ".py",
   "mimetype": "text/x-python",
   "name": "python",
   "nbconvert_exporter": "python",
   "pygments_lexer": "ipython3",
   "version": "3.13.3"
  }
 },
 "nbformat": 4,
 "nbformat_minor": 5
}
