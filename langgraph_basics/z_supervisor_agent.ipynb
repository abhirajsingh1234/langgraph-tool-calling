{
 "cells": [
  {
   "cell_type": "code",
   "execution_count": 49,
   "id": "9c5fc271",
   "metadata": {},
   "outputs": [],
   "source": [
    "# ✅ End-to-End LangGraph Supervisor Example with Subtools (Notebook-Ready)\n",
    "\n",
    "from langchain_openai import ChatOpenAI\n",
    "from langchain_core.tools import tool\n",
    "from langgraph.prebuilt import ToolNode, tools_condition\n",
    "from langgraph_supervisor import create_supervisor\n",
    "from langgraph.graph import StateGraph, START, END\n",
    "from langgraph.graph.message import add_messages\n",
    "from typing import TypedDict, Annotated, List\n",
    "from langchain_google_genai import ChatGoogleGenerativeAI\n",
    "from dotenv import load_dotenv\n",
    "from langgraph.prebuilt import create_react_agent\n",
    "from langgraph.checkpoint.memory import MemorySaver\n",
    "load_dotenv()\n",
    "import os"
   ]
  },
  {
   "cell_type": "code",
   "execution_count": 50,
   "id": "ade037c3",
   "metadata": {},
   "outputs": [],
   "source": [
    "\n",
    "# ✅ Shared schema for LangGraph state\n",
    "class DataObject(TypedDict):\n",
    "    messages: Annotated[List, add_messages]\n",
    "\n",
    "memory = MemorySaver()\n",
    "\n",
    "openai_key = os.getenv('OPENAI_API_KEY')\n",
    "\n",
    "llm = ChatOpenAI(model=\"gpt-4o-mini\", temperature=0.3, api_key=openai_key)"
   ]
  },
  {
   "cell_type": "code",
   "execution_count": 51,
   "id": "f8fd6a35",
   "metadata": {},
   "outputs": [],
   "source": [
    "\n",
    "# =========================\n",
    "# Step 1: Define Subtools\n",
    "# =========================\n",
    "@tool\n",
    "def select_data(query: str) -> dict:\n",
    "    \"\"\"selects data from database\n",
    "    \n",
    "        Parameters:\n",
    "        query (str): A SELECT query string.\n",
    "    \n",
    "    Returns:\n",
    "        List[dict]: List of rows as dictionary\n",
    "        \"\"\"\n",
    "    \n",
    "    print(query)\n",
    "\n",
    "    return {'data': 'rajpurohitabhi' }\n",
    "\n",
    "@tool\n",
    "def insert_data(data: str) -> str:\n",
    "    \"\"\"insert data into database\"\"\"\n",
    "    return 'data was not inserted into database'\n",
    "\n",
    "@tool\n",
    "def credit_ops(webtop_id: str, process_id: str) -> str:\n",
    "    \"\"\"this is process named 'credit ops'.\n",
    "\n",
    "    Parameters:\n",
    "        webtop_id (str): webtop id is a number which is mixture of number and characters.\n",
    "        process_id (str): an id starting with p following a number \n",
    "    \n",
    "    Returns:\n",
    "        List[dict]: string\n",
    "    \"\"\"\n",
    "    return f\"this is the data for the given webtop id and process - ' s- e- -f f-d'\"\n",
    "\n",
    "@tool\n",
    "def reverse_text(text: str) -> str:\n",
    "    \"\"\"Reverses the given text.\"\"\"\n",
    "    return text[::-1]\n",
    "\n",
    "@tool\n",
    "def get_length(text: str) -> int:\n",
    "    \"\"\"Returns the length of the given text.\"\"\"\n",
    "    return len(text)\n"
   ]
  },
  {
   "cell_type": "code",
   "execution_count": 52,
   "id": "635b6fbf",
   "metadata": {},
   "outputs": [],
   "source": [
    "\n",
    "\n",
    "# ================================\n",
    "# Step 2: Create Agents\n",
    "# ================================\n",
    "\n",
    "agent1 = create_react_agent(\n",
    "    model=llm,\n",
    "    tools=[select_data, insert_data],\n",
    "    name=\"database_agent\",\n",
    "    prompt=\"select data from database or insert given data into database\"\n",
    ")\n",
    "\n",
    "agent2 = create_react_agent(\n",
    "    model=llm,\n",
    "    tools=[credit_ops],\n",
    "    name=\"underwriting_agent\",\n",
    "    prompt=\"\"\"You specialize in all process that comes under underweiting like eg-'credit ops'.\n",
    "    these process takes input  'webtop id', 'process id'\"\"\"\n",
    ")\n",
    "\n",
    "agent3 = create_react_agent(\n",
    "    model=llm,\n",
    "    tools=[reverse_text, get_length],\n",
    "    name=\"text_utils_agent\",\n",
    "    prompt=\"You help with reversing and analyzing text.\"\n",
    ")\n"
   ]
  },
  {
   "cell_type": "code",
   "execution_count": null,
   "id": "954ced7e",
   "metadata": {},
   "outputs": [],
   "source": [
    "\n",
    "# ================================\n",
    "# Step 3: Wrap Agents in Supervisor\n",
    "# ================================\n",
    "supervisor = create_supervisor(\n",
    "    agents=[agent1, agent2, agent3],\n",
    "    model=llm,\n",
    "    prompt=\"\"\"You are the main controller. Choose which agent should respond to the user query.\n",
    "\n",
    "    use any agent if required to resolve user query.\n",
    "\n",
    "    if user asks questions that dont meet any tool requirement\n",
    "    then give user all names of available agent and ask which process he wants to run of those process names.\n",
    "\n",
    "    if user asks to run any tool (database agent and its tools excluded) then ask user for webtopid  process name to run and task to run inside that process.\n",
    "\n",
    "    if user asks about usage of a specific agent process then explain user about that process usage.\n",
    "\n",
    "    webtop id and process name are mandatory after selecting a process agent, task name is optional.\n",
    "    \n",
    "    **IMPORTANT** :- always provide output from tools as response back to the user.\"\"\"\n",
    ").compile(checkpointer=memory)\n"
   ]
  },
  {
   "cell_type": "code",
   "execution_count": 58,
   "id": "9aaecb7d",
   "metadata": {},
   "outputs": [
    {
     "name": "stdout",
     "output_type": "stream",
     "text": [
      "\n",
      "💬 Final Response:\n",
      "The output for the given webtop ID \"3434f4ff9\" and process ID \"p200\" was: **'s- e- -f f-d'**. \n",
      "\n",
      "If you have any further questions or need additional assistance, feel free to ask!\n"
     ]
    }
   ],
   "source": [
    "config1 = { 'configurable': { 'thread_id': '1'} }\n",
    "\n",
    "# ================================\n",
    "# Step 4: Run Example Query\n",
    "# ================================\n",
    "query = {\n",
    "    \"messages\": [\n",
    "        {\"role\": \"user\", \"content\": \"what was the output\"}\n",
    "    ]\n",
    "}\n",
    "\n",
    "result = supervisor.invoke(query, config=config1)\n",
    "print(\"\\n\\U0001F4AC Final Response:\")\n",
    "print(result['messages'][-1].content)\n"
   ]
  },
  {
   "cell_type": "code",
   "execution_count": 20,
   "id": "a681d263",
   "metadata": {},
   "outputs": [
    {
     "data": {
      "image/png": "[encoded data removed]",
      "text/plain": [
       "<IPython.core.display.Image object>"
      ]
     },
     "metadata": {},
     "output_type": "display_data"
    }
   ],
   "source": [
    "\n",
    "\n",
    "# ================================\n",
    "# Step 5: Visualize Graph (Optional in Notebook)\n",
    "# ================================\n",
    "from IPython.display import Image, display\n",
    "display(Image(supervisor.get_graph().draw_mermaid_png()))\n"
   ]
  },
  {
   "cell_type": "code",
   "execution_count": null,
   "id": "072083ef",
   "metadata": {},
   "outputs": [],
   "source": []
  },
  {
   "cell_type": "code",
   "execution_count": null,
   "id": "001b77fd",
   "metadata": {},
   "outputs": [],
   "source": []
  }
 ],
 "metadata": {
  "kernelspec": {
   "display_name": "Python 3",
   "language": "python",
   "name": "python3"
  },
  "language_info": {
   "codemirror_mode": {
    "name": "ipython",
    "version": 3
   },
   "file_extension": ".py",
   "mimetype": "text/x-python",
   "name": "python",
   "nbconvert_exporter": "python",
   "pygments_lexer": "ipython3",
   "version": "3.13.3"
  }
 },
 "nbformat": 4,
 "nbformat_minor": 5
}
